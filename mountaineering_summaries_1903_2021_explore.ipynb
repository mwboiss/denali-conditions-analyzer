{
 "cells": [
  {
   "cell_type": "markdown",
   "id": "d37cdcec-baa8-4314-8278-f226ee9ae532",
   "metadata": {},
   "source": [
    "# Initial Explore of Denali Project"
   ]
  },
  {
   "cell_type": "code",
   "execution_count": 2,
   "id": "206ab2a2-1d6d-46ad-b4b8-3f1ae780c287",
   "metadata": {},
   "outputs": [],
   "source": [
    "# Import for Data Manipulation\n",
    "import pandas as pd\n",
    "# Change pandas display setting to see more of dataframe\n",
    "pd.options.display.max_colwidth = None"
   ]
  },
  {
   "cell_type": "code",
   "execution_count": 3,
   "id": "5c7b3ca3-4365-4768-b1f6-2ca87815310f",
   "metadata": {},
   "outputs": [],
   "source": [
    "# Read in excel file\n",
    "summits = pd.read_excel('mountaineering-summaries-1903-2021-summits-by-route.xlsx')\n",
    "summits_totals = summits.tail(9)\n",
    "summits = summits[:-9]"
   ]
  },
  {
   "cell_type": "code",
   "execution_count": 4,
   "id": "66339a22-04d9-423a-bdd2-d69569a11662",
   "metadata": {},
   "outputs": [],
   "source": [
    "# First five rows\n",
    "# summits.head()"
   ]
  },
  {
   "cell_type": "code",
   "execution_count": 5,
   "id": "271161a3-b9a2-4dcf-bc79-8ad0734630c1",
   "metadata": {},
   "outputs": [],
   "source": [
    "# Last 20 rows of dataframe\n",
    "# summits.tail(20)"
   ]
  },
  {
   "cell_type": "code",
   "execution_count": 6,
   "id": "d08cd673-3c9d-4f90-8543-3a832db10083",
   "metadata": {},
   "outputs": [
    {
     "data": {
      "text/html": [
       "<div>\n",
       "<style scoped>\n",
       "    .dataframe tbody tr th:only-of-type {\n",
       "        vertical-align: middle;\n",
       "    }\n",
       "\n",
       "    .dataframe tbody tr th {\n",
       "        vertical-align: top;\n",
       "    }\n",
       "\n",
       "    .dataframe thead th {\n",
       "        text-align: right;\n",
       "    }\n",
       "</style>\n",
       "<table border=\"1\" class=\"dataframe\">\n",
       "  <thead>\n",
       "    <tr style=\"text-align: right;\">\n",
       "      <th></th>\n",
       "      <th>Year</th>\n",
       "      <th>Climbers</th>\n",
       "      <th>Summits</th>\n",
       "      <th>Success Rate</th>\n",
       "    </tr>\n",
       "  </thead>\n",
       "  <tbody>\n",
       "    <tr>\n",
       "      <th>10</th>\n",
       "      <td>1913</td>\n",
       "      <td>4.0</td>\n",
       "      <td>4.0</td>\n",
       "      <td>1.000000</td>\n",
       "    </tr>\n",
       "    <tr>\n",
       "      <th>29</th>\n",
       "      <td>1932</td>\n",
       "      <td>9.0</td>\n",
       "      <td>4.0</td>\n",
       "      <td>0.444444</td>\n",
       "    </tr>\n",
       "    <tr>\n",
       "      <th>39</th>\n",
       "      <td>1942</td>\n",
       "      <td>8.0</td>\n",
       "      <td>7.0</td>\n",
       "      <td>0.875000</td>\n",
       "    </tr>\n",
       "    <tr>\n",
       "      <th>44</th>\n",
       "      <td>1947</td>\n",
       "      <td>14.0</td>\n",
       "      <td>10.0</td>\n",
       "      <td>0.714286</td>\n",
       "    </tr>\n",
       "    <tr>\n",
       "      <th>45</th>\n",
       "      <td>1948</td>\n",
       "      <td>3.0</td>\n",
       "      <td>3.0</td>\n",
       "      <td>1.000000</td>\n",
       "    </tr>\n",
       "    <tr>\n",
       "      <th>...</th>\n",
       "      <td>...</td>\n",
       "      <td>...</td>\n",
       "      <td>...</td>\n",
       "      <td>...</td>\n",
       "    </tr>\n",
       "    <tr>\n",
       "      <th>111</th>\n",
       "      <td>2014</td>\n",
       "      <td>1204.0</td>\n",
       "      <td>429.0</td>\n",
       "      <td>0.356312</td>\n",
       "    </tr>\n",
       "    <tr>\n",
       "      <th>112</th>\n",
       "      <td>2015</td>\n",
       "      <td>1090.0</td>\n",
       "      <td>628.0</td>\n",
       "      <td>0.576147</td>\n",
       "    </tr>\n",
       "    <tr>\n",
       "      <th>113</th>\n",
       "      <td>2016</td>\n",
       "      <td>1126.0</td>\n",
       "      <td>675.0</td>\n",
       "      <td>0.599467</td>\n",
       "    </tr>\n",
       "    <tr>\n",
       "      <th>114</th>\n",
       "      <td>2017</td>\n",
       "      <td>1189.0</td>\n",
       "      <td>498.0</td>\n",
       "      <td>0.418839</td>\n",
       "    </tr>\n",
       "    <tr>\n",
       "      <th>115</th>\n",
       "      <td>2018</td>\n",
       "      <td>1114.0</td>\n",
       "      <td>496.0</td>\n",
       "      <td>0.445242</td>\n",
       "    </tr>\n",
       "  </tbody>\n",
       "</table>\n",
       "<p>70 rows × 4 columns</p>\n",
       "</div>"
      ],
      "text/plain": [
       "     Year  Climbers  Summits  Success Rate\n",
       "10   1913       4.0      4.0      1.000000\n",
       "29   1932       9.0      4.0      0.444444\n",
       "39   1942       8.0      7.0      0.875000\n",
       "44   1947      14.0     10.0      0.714286\n",
       "45   1948       3.0      3.0      1.000000\n",
       "..    ...       ...      ...           ...\n",
       "111  2014    1204.0    429.0      0.356312\n",
       "112  2015    1090.0    628.0      0.576147\n",
       "113  2016    1126.0    675.0      0.599467\n",
       "114  2017    1189.0    498.0      0.418839\n",
       "115  2018    1114.0    496.0      0.445242\n",
       "\n",
       "[70 rows x 4 columns]"
      ]
     },
     "execution_count": 6,
     "metadata": {},
     "output_type": "execute_result"
    }
   ],
   "source": [
    "# Count of Years with summits greater than zeor\n",
    "summits[summits.Summits > 0]"
   ]
  },
  {
   "cell_type": "code",
   "execution_count": 7,
   "id": "47135363-b2fd-4a9a-8109-b09cd431dc2c",
   "metadata": {},
   "outputs": [],
   "source": [
    "# Years with over 50 % success rate\n",
    "# summits[summits['Success Rate'] > .5]"
   ]
  },
  {
   "cell_type": "code",
   "execution_count": 8,
   "id": "52feb397-b87b-4128-9c3d-0d9ae0986afd",
   "metadata": {},
   "outputs": [],
   "source": [
    "# Year with most climbers\n",
    "# summits[summits.Climbers == summits.Climbers.max()]"
   ]
  },
  {
   "cell_type": "markdown",
   "id": "93634dc4-1a49-4661-9846-a6106a691930",
   "metadata": {},
   "source": [
    "- 2005 had 1340 Climbers with 775 Summits at a 57.8358 % success rate"
   ]
  },
  {
   "cell_type": "code",
   "execution_count": null,
   "id": "3de9a03b-1268-4eb6-8bd1-894f7a84fd99",
   "metadata": {},
   "outputs": [],
   "source": []
  },
  {
   "cell_type": "code",
   "execution_count": null,
   "id": "73f6e99a-3710-4359-87de-66d43876a72e",
   "metadata": {},
   "outputs": [],
   "source": []
  }
 ],
 "metadata": {
  "kernelspec": {
   "display_name": "Python 3 (ipykernel)",
   "language": "python",
   "name": "python3"
  },
  "language_info": {
   "codemirror_mode": {
    "name": "ipython",
    "version": 3
   },
   "file_extension": ".py",
   "mimetype": "text/x-python",
   "name": "python",
   "nbconvert_exporter": "python",
   "pygments_lexer": "ipython3",
   "version": "3.9.7"
  }
 },
 "nbformat": 4,
 "nbformat_minor": 5
}
